{
 "cells": [
  {
   "cell_type": "code",
   "execution_count": null,
   "metadata": {},
   "outputs": [],
   "source": [
    "!pip download -d ./packages ultralytics\n",
    "!tar cfvz archive.tar.gz ./packages\n",
    "!pip install --no-index --find-links=./packages ultralytics"
   ]
  }
 ],
 "metadata": {
  "kernelspec": {
   "display_name": "flag_motor",
   "language": "python",
   "name": "python3"
  },
  "language_info": {
   "name": "python",
   "version": "3.11.11"
  }
 },
 "nbformat": 4,
 "nbformat_minor": 2
}
