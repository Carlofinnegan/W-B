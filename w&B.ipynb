{
 "cells": [
  {
   "cell_type": "code",
   "execution_count": 1,
   "metadata": {},
   "outputs": [
    {
     "name": "stdout",
     "output_type": "stream",
     "text": [
      "cuda\n"
     ]
    }
   ],
   "source": [
    "import pandas as pd\n",
    "\n",
    "from sklearn.model_selection import train_test_split\n",
    "from sklearn.preprocessing import StandardScaler\n",
    "from sklearn.ensemble import RandomForestClassifier\n",
    "\n",
    "import torch\n",
    "import torch.nn as nn\n",
    "import torch.optim as optim\n",
    "from torch.utils.data import DataLoader, TensorDataset\n",
    "\n",
    "import joblib\n",
    "\n",
    "def load_raw_titanc():\n",
    "  # Load the Titanic dataset\n",
    "  titanic_url = 'https://raw.githubusercontent.com/datasciencedojo/datasets/master/titanic.csv'\n",
    "  return pd.read_csv(titanic_url)\n",
    "\n",
    "def clean_titanic(titanic_data, fill_missing=True):\n",
    "  df = titanic_data.drop(['PassengerId', 'Name', 'Ticket', 'Cabin'], axis=1)\n",
    "  # Fill missing values\n",
    "  if fill_missing:\n",
    "    df['Age'].fillna(df['Age'].median(), inplace=True)\n",
    "    df['Embarked'].fillna(df['Embarked'].mode()[0], inplace=True)\n",
    "    df['Fare'].fillna(df['Fare'].median(), inplace=True)\n",
    "  else:\n",
    "    df = df.dropna()\n",
    "  # Encode categorical features\n",
    "  df['Sex'] = df['Sex'].map({'male': 0, 'female': 1})\n",
    "  df['Embarked'] = df['Embarked'].map({'C': 0, 'Q': 1, 'S': 2})\n",
    "  return df\n",
    "\n",
    "def load_titanic(cleaned=True, Xy=True):\n",
    "  '''\n",
    "  Returns the titanic dataset\n",
    "  '''\n",
    "  # Get data\n",
    "  df = load_raw_titanc()\n",
    "  # Clean data\n",
    "  if cleaned:\n",
    "    # Drop useless features\n",
    "    df = clean_titanic(df)\n",
    "  # Split Data\n",
    "  if Xy:\n",
    "    return df.drop('Survived', axis=1), df['Survived'] # X, y\n",
    "  return df\n",
    "\n",
    "def get_data_loaders(X_train, X_test, y_train, y_test, batch_size=32):\n",
    "  # Convert to Tensors\n",
    "  X_train_tensor = torch.tensor(X_train.to_numpy(), dtype=torch.float32)\n",
    "  y_train_tensor = torch.tensor(y_train.values, dtype=torch.float32).view(-1, 1)\n",
    "  X_test_tensor = torch.tensor(X_test.to_numpy(), dtype=torch.float32)\n",
    "  y_test_tensor = torch.tensor(y_test.values, dtype=torch.float32).view(-1, 1)\n",
    "\n",
    "  # Create Datasets\n",
    "  train_dataset = TensorDataset(X_train_tensor, y_train_tensor)\n",
    "  test_dataset = TensorDataset(X_test_tensor, y_test_tensor)\n",
    "\n",
    "  # Create DataLoaders\n",
    "  train_loader = DataLoader(train_dataset, batch_size=batch_size, shuffle=True)\n",
    "  test_loader = DataLoader(test_dataset, batch_size=batch_size, shuffle=False)\n",
    "\n",
    "  return train_loader, test_loader\n",
    "\n",
    "def train_loop(train_loader, model, optimizer, criterion, device):\n",
    "  model.train()\n",
    "  epoch_train_loss = 0.0\n",
    "  for batch, labels in train_loader:\n",
    "    batch, labels = batch.to(device), labels.to(device)\n",
    "    optimizer.zero_grad()\n",
    "    # Forward Pass\n",
    "    outputs = model(batch)\n",
    "    loss = criterion(outputs, labels)\n",
    "    # Update Parameters\n",
    "    loss.backward()\n",
    "    optimizer.step()\n",
    "    # Save loss\n",
    "    epoch_train_loss += loss.item() * batch.size(0)\n",
    "  return epoch_train_loss / len(train_loader.dataset)\n",
    "\n",
    "def test_loop(test_loader, model, criterion, device):\n",
    "  model.eval()\n",
    "  epoch_test_loss = 0.0\n",
    "  with torch.no_grad():\n",
    "    for batch, labels in test_loader:\n",
    "      batch, labels = batch.to(device), labels.to(device)\n",
    "      # Calculate predictions\n",
    "      outputs = model(batch)\n",
    "      # Save loss\n",
    "      loss = criterion(outputs, labels)\n",
    "      epoch_test_loss += loss.item() * batch.size(0)\n",
    "  return epoch_test_loss / len(test_loader.dataset)\n",
    "\n",
    "device = torch.device('cuda' if torch.cuda.is_available() else 'cpu')\n",
    "print(device)\n"
   ]
  },
  {
   "cell_type": "code",
   "execution_count": 4,
   "metadata": {},
   "outputs": [
    {
     "name": "stderr",
     "output_type": "stream",
     "text": [
      "\u001b[34m\u001b[1mwandb\u001b[0m: Logging into wandb.ai. (Learn how to deploy a W&B server locally: https://wandb.me/wandb-server)\n",
      "\u001b[34m\u001b[1mwandb\u001b[0m: You can find your API key in your browser here: https://wandb.ai/authorize\n",
      "\u001b[34m\u001b[1mwandb\u001b[0m: Paste an API key from your profile and hit enter, or press ctrl+c to quit:\u001b[34m\u001b[1mwandb\u001b[0m: \u001b[33mWARNING\u001b[0m If you're specifying your api key in code, ensure this code is not shared publicly.\n",
      "\u001b[34m\u001b[1mwandb\u001b[0m: \u001b[33mWARNING\u001b[0m Consider setting the WANDB_API_KEY environment variable, or running `wandb login` from the command line.\n",
      "\u001b[34m\u001b[1mwandb\u001b[0m: Appending key for api.wandb.ai to your netrc file: /home/carlo/.netrc\n",
      "\u001b[34m\u001b[1mwandb\u001b[0m: Currently logged in as: \u001b[33mcarlofinnegan\u001b[0m (\u001b[33mtraintest\u001b[0m) to \u001b[32mhttps://api.wandb.ai\u001b[0m. Use \u001b[1m`wandb login --relogin`\u001b[0m to force relogin\n"
     ]
    },
    {
     "data": {
      "text/plain": [
       "True"
      ]
     },
     "execution_count": 4,
     "metadata": {},
     "output_type": "execute_result"
    }
   ],
   "source": [
    "import wandb\n",
    "wandb.login()"
   ]
  },
  {
   "cell_type": "code",
   "execution_count": 5,
   "metadata": {},
   "outputs": [
    {
     "name": "stderr",
     "output_type": "stream",
     "text": [
      "\u001b[34m\u001b[1mwandb\u001b[0m: Using wandb-core as the SDK backend.  Please refer to https://wandb.me/wandb-core for more information.\n"
     ]
    },
    {
     "data": {
      "text/html": [
       "Tracking run with wandb version 0.19.5"
      ],
      "text/plain": [
       "<IPython.core.display.HTML object>"
      ]
     },
     "metadata": {},
     "output_type": "display_data"
    },
    {
     "data": {
      "text/html": [
       "Run data is saved locally in <code>/home/carlo/Documents/Github/W&B/wandb/run-20250203_133207-3m5gjm7i</code>"
      ],
      "text/plain": [
       "<IPython.core.display.HTML object>"
      ]
     },
     "metadata": {},
     "output_type": "display_data"
    },
    {
     "data": {
      "text/html": [
       "Syncing run <strong><a href='https://wandb.ai/traintest/Simple%20Scikit-Learn%20Run/runs/3m5gjm7i' target=\"_blank\">iconic-snow-1</a></strong> to <a href='https://wandb.ai/traintest/Simple%20Scikit-Learn%20Run' target=\"_blank\">Weights & Biases</a> (<a href='https://wandb.me/developer-guide' target=\"_blank\">docs</a>)<br>"
      ],
      "text/plain": [
       "<IPython.core.display.HTML object>"
      ]
     },
     "metadata": {},
     "output_type": "display_data"
    },
    {
     "data": {
      "text/html": [
       " View project at <a href='https://wandb.ai/traintest/Simple%20Scikit-Learn%20Run' target=\"_blank\">https://wandb.ai/traintest/Simple%20Scikit-Learn%20Run</a>"
      ],
      "text/plain": [
       "<IPython.core.display.HTML object>"
      ]
     },
     "metadata": {},
     "output_type": "display_data"
    },
    {
     "data": {
      "text/html": [
       " View run at <a href='https://wandb.ai/traintest/Simple%20Scikit-Learn%20Run/runs/3m5gjm7i' target=\"_blank\">https://wandb.ai/traintest/Simple%20Scikit-Learn%20Run/runs/3m5gjm7i</a>"
      ],
      "text/plain": [
       "<IPython.core.display.HTML object>"
      ]
     },
     "metadata": {},
     "output_type": "display_data"
    },
    {
     "name": "stderr",
     "output_type": "stream",
     "text": [
      "/tmp/ipykernel_28633/4038696806.py:23: FutureWarning: A value is trying to be set on a copy of a DataFrame or Series through chained assignment using an inplace method.\n",
      "The behavior will change in pandas 3.0. This inplace method will never work because the intermediate object on which we are setting values always behaves as a copy.\n",
      "\n",
      "For example, when doing 'df[col].method(value, inplace=True)', try using 'df.method({col: value}, inplace=True)' or df[col] = df[col].method(value) instead, to perform the operation inplace on the original object.\n",
      "\n",
      "\n",
      "  df['Age'].fillna(df['Age'].median(), inplace=True)\n",
      "/tmp/ipykernel_28633/4038696806.py:24: FutureWarning: A value is trying to be set on a copy of a DataFrame or Series through chained assignment using an inplace method.\n",
      "The behavior will change in pandas 3.0. This inplace method will never work because the intermediate object on which we are setting values always behaves as a copy.\n",
      "\n",
      "For example, when doing 'df[col].method(value, inplace=True)', try using 'df.method({col: value}, inplace=True)' or df[col] = df[col].method(value) instead, to perform the operation inplace on the original object.\n",
      "\n",
      "\n",
      "  df['Embarked'].fillna(df['Embarked'].mode()[0], inplace=True)\n",
      "/tmp/ipykernel_28633/4038696806.py:25: FutureWarning: A value is trying to be set on a copy of a DataFrame or Series through chained assignment using an inplace method.\n",
      "The behavior will change in pandas 3.0. This inplace method will never work because the intermediate object on which we are setting values always behaves as a copy.\n",
      "\n",
      "For example, when doing 'df[col].method(value, inplace=True)', try using 'df.method({col: value}, inplace=True)' or df[col] = df[col].method(value) instead, to perform the operation inplace on the original object.\n",
      "\n",
      "\n",
      "  df['Fare'].fillna(df['Fare'].median(), inplace=True)\n"
     ]
    },
    {
     "data": {
      "text/html": [],
      "text/plain": [
       "<IPython.core.display.HTML object>"
      ]
     },
     "metadata": {},
     "output_type": "display_data"
    },
    {
     "data": {
      "text/html": [
       "<br>    <style><br>        .wandb-row {<br>            display: flex;<br>            flex-direction: row;<br>            flex-wrap: wrap;<br>            justify-content: flex-start;<br>            width: 100%;<br>        }<br>        .wandb-col {<br>            display: flex;<br>            flex-direction: column;<br>            flex-basis: 100%;<br>            flex: 1;<br>            padding: 10px;<br>        }<br>    </style><br><div class=\"wandb-row\"><div class=\"wandb-col\"><h3>Run history:</h3><br/><table class=\"wandb\"><tr><td>accuracy</td><td>▁</td></tr></table><br/></div><div class=\"wandb-col\"><h3>Run summary:</h3><br/><table class=\"wandb\"><tr><td>accuracy</td><td>0.7486</td></tr></table><br/></div></div>"
      ],
      "text/plain": [
       "<IPython.core.display.HTML object>"
      ]
     },
     "metadata": {},
     "output_type": "display_data"
    },
    {
     "data": {
      "text/html": [
       " View run <strong style=\"color:#cdcd00\">iconic-snow-1</strong> at: <a href='https://wandb.ai/traintest/Simple%20Scikit-Learn%20Run/runs/3m5gjm7i' target=\"_blank\">https://wandb.ai/traintest/Simple%20Scikit-Learn%20Run/runs/3m5gjm7i</a><br> View project at: <a href='https://wandb.ai/traintest/Simple%20Scikit-Learn%20Run' target=\"_blank\">https://wandb.ai/traintest/Simple%20Scikit-Learn%20Run</a><br>Synced 5 W&B file(s), 0 media file(s), 0 artifact file(s) and 0 other file(s)"
      ],
      "text/plain": [
       "<IPython.core.display.HTML object>"
      ]
     },
     "metadata": {},
     "output_type": "display_data"
    },
    {
     "data": {
      "text/html": [
       "Find logs at: <code>./wandb/run-20250203_133207-3m5gjm7i/logs</code>"
      ],
      "text/plain": [
       "<IPython.core.display.HTML object>"
      ]
     },
     "metadata": {},
     "output_type": "display_data"
    }
   ],
   "source": [
    "\n",
    "# Define hyperparameters\n",
    "n_estimators = 30\n",
    "max_depth = 2\n",
    "\n",
    "# Create a new run in a project\n",
    "run = wandb.init(\n",
    "    project=\"Simple Scikit-Learn Run\",\n",
    "    notes=\"commit message for the run\",\n",
    "    config={\n",
    "        \"n_estimators\": n_estimators,\n",
    "        \"max_depth\": max_depth\n",
    "    }\n",
    ")\n",
    "\n",
    "# Get Data\n",
    "X, y = load_titanic()\n",
    "X_train, X_test, y_train, y_test = train_test_split(X, y, test_size=0.2,\n",
    "                                                    random_state=42)\n",
    "\n",
    "# Define Random Forest Classifier\n",
    "clf = RandomForestClassifier(n_estimators=n_estimators, max_depth=max_depth)\n",
    "clf.fit(X_train, y_train)\n",
    "\n",
    "# Log metrics\n",
    "wandb.log({\"accuracy\": clf.score(X_test, y_test)})\n",
    "\n",
    "# Finish the run\n",
    "wandb.finish()\n",
    "     "
   ]
  },
  {
   "cell_type": "code",
   "execution_count": 10,
   "metadata": {},
   "outputs": [
    {
     "data": {
      "text/html": [
       "Tracking run with wandb version 0.19.5"
      ],
      "text/plain": [
       "<IPython.core.display.HTML object>"
      ]
     },
     "metadata": {},
     "output_type": "display_data"
    },
    {
     "data": {
      "text/html": [
       "Run data is saved locally in <code>/home/carlo/Documents/Github/W&B/wandb/run-20250203_133801-r2ykv782</code>"
      ],
      "text/plain": [
       "<IPython.core.display.HTML object>"
      ]
     },
     "metadata": {},
     "output_type": "display_data"
    },
    {
     "data": {
      "text/html": [
       "Syncing run <strong><a href='https://wandb.ai/traintest/Simple%20PyTorch%20Run/runs/r2ykv782' target=\"_blank\">MyRun2</a></strong> to <a href='https://wandb.ai/traintest/Simple%20PyTorch%20Run' target=\"_blank\">Weights & Biases</a> (<a href='https://wandb.me/developer-guide' target=\"_blank\">docs</a>)<br>"
      ],
      "text/plain": [
       "<IPython.core.display.HTML object>"
      ]
     },
     "metadata": {},
     "output_type": "display_data"
    },
    {
     "data": {
      "text/html": [
       " View project at <a href='https://wandb.ai/traintest/Simple%20PyTorch%20Run' target=\"_blank\">https://wandb.ai/traintest/Simple%20PyTorch%20Run</a>"
      ],
      "text/plain": [
       "<IPython.core.display.HTML object>"
      ]
     },
     "metadata": {},
     "output_type": "display_data"
    },
    {
     "data": {
      "text/html": [
       " View run at <a href='https://wandb.ai/traintest/Simple%20PyTorch%20Run/runs/r2ykv782' target=\"_blank\">https://wandb.ai/traintest/Simple%20PyTorch%20Run/runs/r2ykv782</a>"
      ],
      "text/plain": [
       "<IPython.core.display.HTML object>"
      ]
     },
     "metadata": {},
     "output_type": "display_data"
    },
    {
     "name": "stderr",
     "output_type": "stream",
     "text": [
      "/tmp/ipykernel_28633/4038696806.py:23: FutureWarning: A value is trying to be set on a copy of a DataFrame or Series through chained assignment using an inplace method.\n",
      "The behavior will change in pandas 3.0. This inplace method will never work because the intermediate object on which we are setting values always behaves as a copy.\n",
      "\n",
      "For example, when doing 'df[col].method(value, inplace=True)', try using 'df.method({col: value}, inplace=True)' or df[col] = df[col].method(value) instead, to perform the operation inplace on the original object.\n",
      "\n",
      "\n",
      "  df['Age'].fillna(df['Age'].median(), inplace=True)\n",
      "/tmp/ipykernel_28633/4038696806.py:24: FutureWarning: A value is trying to be set on a copy of a DataFrame or Series through chained assignment using an inplace method.\n",
      "The behavior will change in pandas 3.0. This inplace method will never work because the intermediate object on which we are setting values always behaves as a copy.\n",
      "\n",
      "For example, when doing 'df[col].method(value, inplace=True)', try using 'df.method({col: value}, inplace=True)' or df[col] = df[col].method(value) instead, to perform the operation inplace on the original object.\n",
      "\n",
      "\n",
      "  df['Embarked'].fillna(df['Embarked'].mode()[0], inplace=True)\n",
      "/tmp/ipykernel_28633/4038696806.py:25: FutureWarning: A value is trying to be set on a copy of a DataFrame or Series through chained assignment using an inplace method.\n",
      "The behavior will change in pandas 3.0. This inplace method will never work because the intermediate object on which we are setting values always behaves as a copy.\n",
      "\n",
      "For example, when doing 'df[col].method(value, inplace=True)', try using 'df.method({col: value}, inplace=True)' or df[col] = df[col].method(value) instead, to perform the operation inplace on the original object.\n",
      "\n",
      "\n",
      "  df['Fare'].fillna(df['Fare'].median(), inplace=True)\n"
     ]
    },
    {
     "name": "stdout",
     "output_type": "stream",
     "text": [
      "[Epoch 1/50] TrainLoss: 0.6645588586839397; TestLoss: 0.623424286948902\n",
      "[Epoch 2/50] TrainLoss: 0.6387273354476757; TestLoss: 0.5460224724348697\n",
      "[Epoch 3/50] TrainLoss: 0.557707008351101; TestLoss: 0.5392009193004843\n",
      "[Epoch 4/50] TrainLoss: 0.5330431541700041; TestLoss: 0.46666483622689486\n",
      "[Epoch 5/50] TrainLoss: 0.5158350166310085; TestLoss: 0.46390859990812544\n",
      "[Epoch 6/50] TrainLoss: 0.5080417180329226; TestLoss: 0.5156256243503293\n",
      "[Epoch 7/50] TrainLoss: 0.48811886283788786; TestLoss: 0.4730841877074215\n",
      "[Epoch 8/50] TrainLoss: 0.4806925527165445; TestLoss: 0.6098337083555466\n",
      "[Epoch 9/50] TrainLoss: 0.5134174388446165; TestLoss: 0.5426587002903389\n",
      "[Epoch 10/50] TrainLoss: 0.4923927228102523; TestLoss: 0.45189157394723517\n",
      "[Epoch 11/50] TrainLoss: 0.48437382967284554; TestLoss: 0.4446116416147967\n",
      "[Epoch 12/50] TrainLoss: 0.4763236819358354; TestLoss: 0.4962342929240712\n",
      "[Epoch 13/50] TrainLoss: 0.48720734373907026; TestLoss: 0.42846654696837483\n",
      "[Epoch 14/50] TrainLoss: 0.48601754311095463; TestLoss: 0.4347857621461986\n",
      "[Epoch 15/50] TrainLoss: 0.47201145063625294; TestLoss: 0.44198980427987083\n",
      "[Epoch 16/50] TrainLoss: 0.46964284744155543; TestLoss: 0.5033833262973657\n",
      "[Epoch 17/50] TrainLoss: 0.48927105712086966; TestLoss: 0.4476899191653928\n",
      "[Epoch 18/50] TrainLoss: 0.4778998604651247; TestLoss: 0.44404704827170133\n",
      "[Epoch 19/50] TrainLoss: 0.45968867955582865; TestLoss: 0.47175332970459366\n",
      "[Epoch 20/50] TrainLoss: 0.46337129828635226; TestLoss: 0.4327705490855531\n",
      "[Epoch 21/50] TrainLoss: 0.4382331974050972; TestLoss: 0.44578569061929285\n",
      "[Epoch 22/50] TrainLoss: 0.4486759874258148; TestLoss: 0.45715592610103456\n",
      "[Epoch 23/50] TrainLoss: 0.459322970904661; TestLoss: 0.5431949404697844\n",
      "[Epoch 24/50] TrainLoss: 0.45666839835349093; TestLoss: 0.45529900366367576\n",
      "[Epoch 25/50] TrainLoss: 0.4834783800532309; TestLoss: 0.5100235715924695\n",
      "[Epoch 26/50] TrainLoss: 0.49799173768986477; TestLoss: 0.49115319974595606\n",
      "[Epoch 27/50] TrainLoss: 0.49003468738513045; TestLoss: 0.4652898511407096\n",
      "[Epoch 28/50] TrainLoss: 0.47441720292809303; TestLoss: 0.5002972583531001\n",
      "[Epoch 29/50] TrainLoss: 0.45640095967925; TestLoss: 0.4725322718393869\n",
      "[Epoch 30/50] TrainLoss: 0.49108120765578883; TestLoss: 0.5933376054524043\n",
      "[Epoch 31/50] TrainLoss: 0.5537703311845158; TestLoss: 0.45921406616045773\n",
      "[Epoch 32/50] TrainLoss: 0.46592723050813994; TestLoss: 0.44890703885248917\n",
      "[Epoch 33/50] TrainLoss: 0.47153944932342917; TestLoss: 0.445411713263176\n",
      "[Epoch 34/50] TrainLoss: 0.46073418319895026; TestLoss: 0.4456592373674808\n",
      "[Epoch 35/50] TrainLoss: 0.45373179169183364; TestLoss: 0.42891807046682473\n",
      "[Epoch 36/50] TrainLoss: 0.4664452692096153; TestLoss: 0.42655306604987414\n",
      "[Epoch 37/50] TrainLoss: 0.4858825280425254; TestLoss: 0.46296356410287615\n",
      "[Epoch 38/50] TrainLoss: 0.4838158870011233; TestLoss: 0.44100547769216186\n",
      "[Epoch 39/50] TrainLoss: 0.46976237333892434; TestLoss: 0.4413472197575276\n",
      "[Epoch 40/50] TrainLoss: 0.4712317545762223; TestLoss: 0.5141915327676848\n",
      "[Epoch 41/50] TrainLoss: 0.4790954479340757; TestLoss: 0.4557805149581845\n",
      "[Epoch 42/50] TrainLoss: 0.4468149428956964; TestLoss: 0.45328844642505967\n",
      "[Epoch 43/50] TrainLoss: 0.45800680056046905; TestLoss: 0.46856838098451414\n",
      "[Epoch 44/50] TrainLoss: 0.44931611318266795; TestLoss: 0.4567904871935285\n",
      "[Epoch 45/50] TrainLoss: 0.4660739697767108; TestLoss: 0.4440337609312388\n",
      "[Epoch 46/50] TrainLoss: 0.4906841101271383; TestLoss: 0.4269645723550679\n",
      "[Epoch 47/50] TrainLoss: 0.4672075838185428; TestLoss: 0.4391642569163658\n",
      "[Epoch 48/50] TrainLoss: 0.47455876061085905; TestLoss: 0.46914251406765517\n",
      "[Epoch 49/50] TrainLoss: 0.4601667538452684; TestLoss: 0.5253120948815478\n",
      "[Epoch 50/50] TrainLoss: 0.45269527796948894; TestLoss: 0.48741471800724223\n"
     ]
    },
    {
     "data": {
      "text/html": [],
      "text/plain": [
       "<IPython.core.display.HTML object>"
      ]
     },
     "metadata": {},
     "output_type": "display_data"
    },
    {
     "data": {
      "text/html": [
       "<br>    <style><br>        .wandb-row {<br>            display: flex;<br>            flex-direction: row;<br>            flex-wrap: wrap;<br>            justify-content: flex-start;<br>            width: 100%;<br>        }<br>        .wandb-col {<br>            display: flex;<br>            flex-direction: column;<br>            flex-basis: 100%;<br>            flex: 1;<br>            padding: 10px;<br>        }<br>    </style><br><div class=\"wandb-row\"><div class=\"wandb-col\"><h3>Run history:</h3><br/><table class=\"wandb\"><tr><td>test_loss</td><td>█▅▅▂▂▃█▅▂▂▁▁▂▄▂▁▂▂▅▂▃▂▄▃▇▂▂▂▁▂▂▄▂▂▂▂▁▁▃▃</td></tr><tr><td>train_loss</td><td>█▅▄▃▃▂▃▃▂▂▂▂▂▃▂▂▁▁▂▂▃▃▂▂▃▂▂▁▂▂▂▂▂▁▂▂▃▂▂▁</td></tr></table><br/></div><div class=\"wandb-col\"><h3>Run summary:</h3><br/><table class=\"wandb\"><tr><td>test_loss</td><td>0.48741</td></tr><tr><td>train_loss</td><td>0.4527</td></tr></table><br/></div></div>"
      ],
      "text/plain": [
       "<IPython.core.display.HTML object>"
      ]
     },
     "metadata": {},
     "output_type": "display_data"
    },
    {
     "data": {
      "text/html": [
       " View run <strong style=\"color:#cdcd00\">MyRun2</strong> at: <a href='https://wandb.ai/traintest/Simple%20PyTorch%20Run/runs/r2ykv782' target=\"_blank\">https://wandb.ai/traintest/Simple%20PyTorch%20Run/runs/r2ykv782</a><br> View project at: <a href='https://wandb.ai/traintest/Simple%20PyTorch%20Run' target=\"_blank\">https://wandb.ai/traintest/Simple%20PyTorch%20Run</a><br>Synced 5 W&B file(s), 0 media file(s), 0 artifact file(s) and 0 other file(s)"
      ],
      "text/plain": [
       "<IPython.core.display.HTML object>"
      ]
     },
     "metadata": {},
     "output_type": "display_data"
    },
    {
     "data": {
      "text/html": [
       "Find logs at: <code>./wandb/run-20250203_133801-r2ykv782/logs</code>"
      ],
      "text/plain": [
       "<IPython.core.display.HTML object>"
      ]
     },
     "metadata": {},
     "output_type": "display_data"
    }
   ],
   "source": [
    "# Define hyperparameters\n",
    "num_epochs = 50\n",
    "learning_rate = 0.05\n",
    "run_count = 2\n",
    "\n",
    "# Start a run\n",
    "run = wandb.init(\n",
    "    project=\"Simple PyTorch Run\",\n",
    "    name=f\"MyRun{run_count}\",\n",
    "    config={\n",
    "        \"num_epochs\": num_epochs,\n",
    "        \"learning_rate\": learning_rate\n",
    "    }\n",
    ")\n",
    "\n",
    "# Get Data\n",
    "X, y = load_titanic()\n",
    "X_train, X_test, y_train, y_test = train_test_split(X, y, test_size=0.2,\n",
    "                                                    random_state=42)\n",
    "train_loader, test_loader = get_data_loaders(X_train, X_test, y_train, y_test)\n",
    "\n",
    "# Define Simple PyTorch Model\n",
    "model = nn.Sequential(\n",
    "    nn.Linear(7, 32), # 7 input features -> 32 hidden nodes\n",
    "    nn.ReLU(),\n",
    "    nn.Linear(32, 16),\n",
    "    nn.ReLU(),\n",
    "    nn.Linear(16, 1),\n",
    "    nn.Sigmoid()\n",
    ").to(device)\n",
    "\n",
    "criterion = nn.BCELoss()\n",
    "optimizer = optim.Adam(model.parameters(), lr=learning_rate)\n",
    "\n",
    "for epoch in range(num_epochs):\n",
    "  train_loss = train_loop(train_loader, model, optimizer, criterion, device)\n",
    "  test_loss = test_loop(test_loader, model, criterion, device)\n",
    "\n",
    "  print(f\"[Epoch {epoch+1}/{num_epochs}] TrainLoss: {train_loss}; TestLoss: {test_loss}\")\n",
    "  wandb.log({\n",
    "    \"train_loss\": train_loss,\n",
    "    \"test_loss\": test_loss\n",
    "  })\n",
    "\n",
    "wandb.finish()"
   ]
  },
  {
   "cell_type": "code",
   "execution_count": null,
   "metadata": {},
   "outputs": [],
   "source": []
  }
 ],
 "metadata": {
  "kernelspec": {
   "display_name": "rapids-24.04",
   "language": "python",
   "name": "python3"
  },
  "language_info": {
   "codemirror_mode": {
    "name": "ipython",
    "version": 3
   },
   "file_extension": ".py",
   "mimetype": "text/x-python",
   "name": "python",
   "nbconvert_exporter": "python",
   "pygments_lexer": "ipython3",
   "version": "3.10.14"
  }
 },
 "nbformat": 4,
 "nbformat_minor": 2
}
